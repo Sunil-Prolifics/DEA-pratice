{
 "cells": [
  {
   "cell_type": "code",
   "execution_count": 0,
   "metadata": {
    "application/vnd.databricks.v1+cell": {
     "cellMetadata": {
      "byteLimit": 2048000,
      "rowLimit": 10000
     },
     "inputWidgets": {},
     "nuid": "9ffd5840-4d24-4afe-9e7e-9d34174334b9",
     "showTitle": false,
     "tableResultSettingsMap": {},
     "title": ""
    }
   },
   "outputs": [],
   "source": [
    "data = [(\"Alice\", 25), (\"Bob\", 30), (\"Charlie\", 35)]"
   ]
  },
  {
   "cell_type": "code",
   "execution_count": 0,
   "metadata": {
    "application/vnd.databricks.v1+cell": {
     "cellMetadata": {
      "byteLimit": 2048000,
      "rowLimit": 10000
     },
     "inputWidgets": {},
     "nuid": "ef77b686-409f-4cd8-80c6-2012da103f56",
     "showTitle": false,
     "tableResultSettingsMap": {},
     "title": ""
    }
   },
   "outputs": [],
   "source": [
    "df = spark.createDataFrame(data)\n",
    "df.show()"
   ]
  },
  {
   "cell_type": "code",
   "execution_count": 0,
   "metadata": {
    "application/vnd.databricks.v1+cell": {
     "cellMetadata": {
      "byteLimit": 2048000,
      "rowLimit": 10000
     },
     "inputWidgets": {},
     "nuid": "36706483-e415-4b30-9d27-444943aef4b6",
     "showTitle": false,
     "tableResultSettingsMap": {},
     "title": ""
    }
   },
   "outputs": [],
   "source": [
    "display(df.select(\"_1\"))"
   ]
  },
  {
   "cell_type": "code",
   "execution_count": 0,
   "metadata": {
    "application/vnd.databricks.v1+cell": {
     "cellMetadata": {
      "byteLimit": 2048000,
      "rowLimit": 10000
     },
     "inputWidgets": {},
     "nuid": "c4a2fff2-f6da-4c2f-8398-303ec6dba4d3",
     "showTitle": false,
     "tableResultSettingsMap": {},
     "title": ""
    }
   },
   "outputs": [],
   "source": [
    "df_renamed = df.withColumnRenamed(\"_1\", \"name\").withColumnRenamed(\"_2\", \"age\")"
   ]
  },
  {
   "cell_type": "code",
   "execution_count": 0,
   "metadata": {
    "application/vnd.databricks.v1+cell": {
     "cellMetadata": {
      "byteLimit": 2048000,
      "rowLimit": 10000
     },
     "inputWidgets": {},
     "nuid": "b6927f7a-4608-4f88-845c-375e98579103",
     "showTitle": false,
     "tableResultSettingsMap": {},
     "title": ""
    }
   },
   "outputs": [],
   "source": [
    "\n",
    "display(df_renamed)\n"
   ]
  },
  {
   "cell_type": "code",
   "execution_count": 0,
   "metadata": {
    "application/vnd.databricks.v1+cell": {
     "cellMetadata": {
      "byteLimit": 2048000,
      "rowLimit": 10000
     },
     "inputWidgets": {},
     "nuid": "7cfa48b2-3335-4b06-a043-13f8345be2f3",
     "showTitle": false,
     "tableResultSettingsMap": {},
     "title": ""
    }
   },
   "outputs": [],
   "source": [
    "from pyspark.sql import Row\n",
    "data2 = [Row(name=\"Alice\", age=25), Row(name=\"Bob\", age=30), Row(name=\"Charlie\", age=35)]\n",
    "df2 = spark.createDataFrame(data2)"
   ]
  },
  {
   "cell_type": "code",
   "execution_count": 0,
   "metadata": {
    "application/vnd.databricks.v1+cell": {
     "cellMetadata": {
      "byteLimit": 2048000,
      "rowLimit": 10000
     },
     "inputWidgets": {},
     "nuid": "f890fec1-ca91-4a43-849a-aaf78a67d4e5",
     "showTitle": false,
     "tableResultSettingsMap": {},
     "title": ""
    }
   },
   "outputs": [],
   "source": [
    "df2.display()"
   ]
  },
  {
   "cell_type": "code",
   "execution_count": 0,
   "metadata": {
    "application/vnd.databricks.v1+cell": {
     "cellMetadata": {
      "byteLimit": 2048000,
      "rowLimit": 10000
     },
     "inputWidgets": {},
     "nuid": "c1172056-e68e-4336-a75c-577ab17fd653",
     "showTitle": false,
     "tableResultSettingsMap": {},
     "title": ""
    }
   },
   "outputs": [],
   "source": [
    "data = [(\"Alice\", 25), (\"Bob\", 30), (\"Charlie\", 35)]\n",
    "df3 = spark.createDataFrame(data, schema=[\"name\", \"age\"])\n",
    "df3.show()"
   ]
  },
  {
   "cell_type": "code",
   "execution_count": 0,
   "metadata": {
    "application/vnd.databricks.v1+cell": {
     "cellMetadata": {
      "byteLimit": 2048000,
      "rowLimit": 10000
     },
     "inputWidgets": {},
     "nuid": "3c00f11b-9ecc-4831-a381-346f5dfb2815",
     "showTitle": false,
     "tableResultSettingsMap": {},
     "title": ""
    }
   },
   "outputs": [],
   "source": [
    "df3.select(\"name\").show()"
   ]
  },
  {
   "cell_type": "code",
   "execution_count": 0,
   "metadata": {
    "application/vnd.databricks.v1+cell": {
     "cellMetadata": {
      "byteLimit": 2048000,
      "rowLimit": 10000
     },
     "inputWidgets": {},
     "nuid": "6645723a-486f-4146-a061-2d4bd7c910fa",
     "showTitle": false,
     "tableResultSettingsMap": {},
     "title": ""
    }
   },
   "outputs": [],
   "source": [
    "df3.select(df3.name).show()"
   ]
  },
  {
   "cell_type": "code",
   "execution_count": 0,
   "metadata": {
    "application/vnd.databricks.v1+cell": {
     "cellMetadata": {
      "byteLimit": 2048000,
      "rowLimit": 10000
     },
     "inputWidgets": {},
     "nuid": "1dd35603-0e52-4429-8901-073263841a35",
     "showTitle": false,
     "tableResultSettingsMap": {},
     "title": ""
    }
   },
   "outputs": [],
   "source": [
    "df3.select(df3[\"name\"]).show()"
   ]
  },
  {
   "cell_type": "code",
   "execution_count": 0,
   "metadata": {
    "application/vnd.databricks.v1+cell": {
     "cellMetadata": {
      "byteLimit": 2048000,
      "rowLimit": 10000
     },
     "inputWidgets": {},
     "nuid": "05734e2e-371f-4c59-b2d3-dcba599e3ce5",
     "showTitle": false,
     "tableResultSettingsMap": {},
     "title": ""
    }
   },
   "outputs": [],
   "source": [
    "from pyspark.sql.functions import col\n",
    "df3.select(col(\"name\")).show()"
   ]
  },
  {
   "cell_type": "code",
   "execution_count": 0,
   "metadata": {
    "application/vnd.databricks.v1+cell": {
     "cellMetadata": {
      "byteLimit": 2048000,
      "rowLimit": 10000
     },
     "inputWidgets": {},
     "nuid": "7c2d685f-7ed4-4375-bab7-fbee835977f6",
     "showTitle": false,
     "tableResultSettingsMap": {},
     "title": ""
    }
   },
   "outputs": [],
   "source": [
    "df3.select(col(\"name\").alias(\"first_name\")).show()"
   ]
  },
  {
   "cell_type": "code",
   "execution_count": 0,
   "metadata": {
    "application/vnd.databricks.v1+cell": {
     "cellMetadata": {
      "byteLimit": 2048000,
      "rowLimit": 10000
     },
     "inputWidgets": {},
     "nuid": "5ca6c2ea-8c24-4089-90a0-f1f0a1b9f245",
     "showTitle": false,
     "tableResultSettingsMap": {},
     "title": ""
    }
   },
   "outputs": [],
   "source": [
    "df3.select(col(\"name\").like(\"A%\")).show()"
   ]
  },
  {
   "cell_type": "code",
   "execution_count": 0,
   "metadata": {
    "application/vnd.databricks.v1+cell": {
     "cellMetadata": {
      "byteLimit": 2048000,
      "rowLimit": 10000
     },
     "inputWidgets": {},
     "nuid": "a67737ca-e101-4503-b501-2aa8a53e153a",
     "showTitle": false,
     "tableResultSettingsMap": {},
     "title": ""
    }
   },
   "outputs": [],
   "source": [
    "data = [\n",
    "    (1, \"Alice\", 25, \"Seattle\"),\n",
    "    (2, \"Bob\", 30, \"Portland\"),\n",
    "    (3, \"Charlie\", 35, \"San Francisco\"),\n",
    "    (4, \"David\", 28, \"Los Angeles\"),\n",
    "    (5, \"Eva\", 22, \"New York\"),\n",
    "    (6, \"Frank\", 33, \"Chicago\"),\n",
    "    (7, \"Grace\", 27, \"Houston\"),\n",
    "    (8, \"Hannah\", 31, \"Boston\"),\n",
    "    (9, \"Ian\", 29, \"Denver\"),\n",
    "    (10, \"Jane\", 26, \"Miami\")\n",
    "]\n",
    "\n",
    "# Define column names\n",
    "columns = [\"id\", \"name\", \"age\", \"city\"]\n",
    "\n",
    "# Create DataFrame\n",
    "df = spark.createDataFrame(data, schema=columns)\n",
    "\n",
    "# Show the DataFrame\n",
    "df.show()"
   ]
  },
  {
   "cell_type": "code",
   "execution_count": 0,
   "metadata": {
    "application/vnd.databricks.v1+cell": {
     "cellMetadata": {
      "byteLimit": 2048000,
      "rowLimit": 10000
     },
     "inputWidgets": {},
     "nuid": "a8f867db-563e-44c4-af91-a4623a02da81",
     "showTitle": false,
     "tableResultSettingsMap": {},
     "title": ""
    }
   },
   "outputs": [],
   "source": [
    "df.select(*[col(df.columns[1]), col(df.columns[2]), col(df.columns[3])]).show() "
   ]
  },
  {
   "cell_type": "code",
   "execution_count": 0,
   "metadata": {
    "application/vnd.databricks.v1+cell": {
     "cellMetadata": {
      "byteLimit": 2048000,
      "rowLimit": 10000
     },
     "inputWidgets": {},
     "nuid": "b729477c-5dd9-4108-9c9d-3ed6283b1be2",
     "showTitle": false,
     "tableResultSettingsMap": {},
     "title": ""
    }
   },
   "outputs": [],
   "source": [
    "df.select(df.columns[1:3]).limit(3).show() "
   ]
  },
  {
   "cell_type": "code",
   "execution_count": 0,
   "metadata": {
    "application/vnd.databricks.v1+cell": {
     "cellMetadata": {
      "byteLimit": 2048000,
      "rowLimit": 10000
     },
     "inputWidgets": {},
     "nuid": "fdd2d907-2631-413f-bb11-f1efeb3d821b",
     "showTitle": false,
     "tableResultSettingsMap": {},
     "title": ""
    }
   },
   "outputs": [],
   "source": [
    "from pyspark.sql import SparkSession\n",
    "from pyspark.sql.functions import col\n",
    "from pyspark.sql.types import StructType, StructField, FloatType, StringType\n",
    "\n",
    "# Import SparkFiles to access downloaded file\n",
    "from pyspark import SparkFiles\n",
    "\n",
    "# Add the file from the URL to SparkFiles\n",
    "url = \"https://archive.ics.uci.edu/ml/machine-learning-databases/iris/iris.data\"\n",
    "dbutils.fs.rm(\"/tmp/iris.data\", True)  # Remove if already exists to avoid conflicts\n",
    "dbutils.fs.cp(url, \"dbfs:/tmp/iris.data\")  # This may not work directly for HTTP URL in some environments\n",
    "\n",
    "# Instead, use SparkContext to add the file from URL\n",
    "spark.sparkContext.addFile(url)\n",
    "\n",
    "# Get the local path of the downloaded file\n",
    "local_path = SparkFiles.get(\"iris.data\")\n",
    "\n",
    "# Define schema since the file has no header\n",
    "schema = StructType([\n",
    "    StructField(\"sepal_length\", FloatType(), True),\n",
    "    StructField(\"sepal_width\", FloatType(), True),\n",
    "    StructField(\"petal_length\", FloatType(), True),\n",
    "    StructField(\"petal_width\", FloatType(), True),\n",
    "    StructField(\"class\", StringType(), True)\n",
    "])\n",
    "\n",
    "# Read the CSV file with no header\n",
    "df = spark.read.csv(local_path, schema=schema, header=False)\n",
    "\n",
    "# Show the DataFrame\n",
    "df.show(5)"
   ]
  },
  {
   "cell_type": "code",
   "execution_count": 0,
   "metadata": {
    "application/vnd.databricks.v1+cell": {
     "cellMetadata": {
      "byteLimit": 2048000,
      "rowLimit": 10000
     },
     "inputWidgets": {},
     "nuid": "60f5b103-9787-405c-8e04-a28b81e600f6",
     "showTitle": false,
     "tableResultSettingsMap": {},
     "title": ""
    }
   },
   "outputs": [],
   "source": [
    "file1_path = \"/FileStore/tables/weather*.csv\"\n",
    "df = spark.read.csv(file1_path, header=True, inferSchema=True)\n",
    "df.display()"
   ]
  },
  {
   "cell_type": "code",
   "execution_count": 0,
   "metadata": {
    "application/vnd.databricks.v1+cell": {
     "cellMetadata": {
      "byteLimit": 2048000,
      "rowLimit": 10000
     },
     "inputWidgets": {},
     "nuid": "2053e85f-dd4c-40dd-a94e-12896b7b50f2",
     "showTitle": false,
     "tableResultSettingsMap": {},
     "title": ""
    }
   },
   "outputs": [],
   "source": [
    "address = [(1,\"14851 Jeffrey Rd\",\"DE\"),\n",
    "    (2,\"43421 Margarita St\",\"NY\"),\n",
    "    (3,\"13111 Siemon Ave\",\"CA\")]\n",
    "df =spark.createDataFrame(address,[\"id\",\"address\",\"state\"])\n",
    "display(df)"
   ]
  },
  {
   "cell_type": "code",
   "execution_count": 0,
   "metadata": {
    "application/vnd.databricks.v1+cell": {
     "cellMetadata": {
      "byteLimit": 2048000,
      "rowLimit": 10000
     },
     "inputWidgets": {},
     "nuid": "fea78067-7c72-486d-a5eb-b3ab3fd4fc7b",
     "showTitle": false,
     "tableResultSettingsMap": {},
     "title": ""
    }
   },
   "outputs": [],
   "source": [
    "from pyspark.sql.functions import regexp_replace\n",
    "df.withColumn('address', regexp_replace('address', 'Rd', 'Road')) \\\n",
    "  .show(truncate=False)"
   ]
  },
  {
   "cell_type": "code",
   "execution_count": 0,
   "metadata": {
    "application/vnd.databricks.v1+cell": {
     "cellMetadata": {
      "byteLimit": 2048000,
      "rowLimit": 10000
     },
     "inputWidgets": {},
     "nuid": "41024979-3f1f-47c5-a49f-375a9e3db077",
     "showTitle": false,
     "tableResultSettingsMap": {},
     "title": ""
    }
   },
   "outputs": [],
   "source": [
    "from pyspark.sql.functions import lit\n",
    "new_df = df.withColumn(\"Country\", lit(\"USA\"))\n",
    "\n",
    "new_df.display()\n"
   ]
  },
  {
   "cell_type": "code",
   "execution_count": 0,
   "metadata": {
    "application/vnd.databricks.v1+cell": {
     "cellMetadata": {},
     "inputWidgets": {},
     "nuid": "7bfbb2d7-f978-41f5-aec7-41a32f1b8745",
     "showTitle": false,
     "tableResultSettingsMap": {},
     "title": ""
    }
   },
   "outputs": [],
   "source": [
    "# 1. Equal / Not equal\n",
    "#df.filter(col(\"gender\") == \"M\").show()\n",
    "#df.filter(col(\"gender\") != \"M\").show()\n",
    " \n",
    " \n",
    "# 2. Greater than / Less than\n",
    "#df.filter(col(\"age\") > 30).show()\n",
    "#df.filter(col(\"salary\") < 50000).show()\n",
    " \n",
    " \n",
    "# 3. Greater than or equal / Less than or equal\n",
    "#df.filter(col(\"age\") >= 25).show()\n",
    "#df.filter(col(\"salary\") <= 40000).show()\n",
    " \n",
    "# 4. IN / NOT IN\n",
    "#df.filter(col(\"name\").isin(\"Alice\", \"Bob\")).show()\n",
    "#df.filter(~col(\"name\").isin(\"Charlie\", \"Diana\")).show()\n",
    " \n",
    "# 5. BETWEEN\n",
    "#df.filter(col(\"age\").between(25, 30)).show()\n",
    " \n",
    "# 6. NULL / NOT NULL\n",
    "#df.filter(col(\"age\").isNull()).show()\n",
    "#df.filter(col(\"salary\").isNotNull()).show()\n",
    " \n",
    " \n",
    "# 7. Startswith / Endswith / Contains\n",
    "#df.filter(col(\"name\").startswith(\"A\")).show()\n",
    "#df.filter(col(\"name\").endswith(\"a\")).show()\n",
    "#df.filter(col(\"name\").contains(\"ar\")).show()\n",
    " \n",
    "# 8. Multiple conditions (AND / OR)\n",
    "#df.filter((col(\"gender\") == \"F\") & (col(\"age\") > 25)).show()\n",
    "#df.filter((col(\"age\") < 25) | (col(\"salary\") < 40000)).show()"
   ]
  },
  {
   "cell_type": "code",
   "execution_count": 0,
   "metadata": {
    "application/vnd.databricks.v1+cell": {
     "cellMetadata": {
      "byteLimit": 2048000,
      "rowLimit": 10000
     },
     "inputWidgets": {},
     "nuid": "fd0e3012-9b48-40ef-9986-c3d698e0fdee",
     "showTitle": false,
     "tableResultSettingsMap": {},
     "title": ""
    }
   },
   "outputs": [],
   "source": [
    "path = \"/FileStore/tables/testdata_sunil.csv\"\n",
    "\n",
    "test_df = spark.read.csv(path, header=True, inferSchema=True)\n",
    "test_df.display()"
   ]
  },
  {
   "cell_type": "code",
   "execution_count": 0,
   "metadata": {
    "application/vnd.databricks.v1+cell": {
     "cellMetadata": {
      "byteLimit": 2048000,
      "rowLimit": 10000
     },
     "inputWidgets": {},
     "nuid": "491e1db4-0209-4a23-a5bd-45555ae72f37",
     "showTitle": false,
     "tableResultSettingsMap": {},
     "title": ""
    }
   },
   "outputs": [],
   "source": [
    "test_df.schema"
   ]
  },
  {
   "cell_type": "code",
   "execution_count": 0,
   "metadata": {
    "application/vnd.databricks.v1+cell": {
     "cellMetadata": {
      "byteLimit": 2048000,
      "rowLimit": 10000
     },
     "inputWidgets": {},
     "nuid": "1e505651-40a1-4b90-a3e3-d9405e8433d4",
     "showTitle": false,
     "tableResultSettingsMap": {},
     "title": ""
    }
   },
   "outputs": [],
   "source": [
    "columns = [\"sepal_length\", \"sepal_width\", \"petal_length\", \"petal_width\", \"class\"]\n",
    "test_df_renamed = test_df.withColumnRenamed(\"5.1\", \"sepal_length\").withColumnRenamed(\"3.5\", \"sepal_width\").withColumnRenamed(\"1.4\", \"petal_length\").withColumnRenamed(\"0.2\", \"petal_width\").withColumnRenamed(\"Iris-setosa\", \"class\")\n",
    "\n",
    "test_df_renamed.display()\n"
   ]
  },
  {
   "cell_type": "code",
   "execution_count": 0,
   "metadata": {
    "application/vnd.databricks.v1+cell": {
     "cellMetadata": {
      "byteLimit": 2048000,
      "rowLimit": 10000
     },
     "inputWidgets": {},
     "nuid": "42ee2a37-a9a8-4b00-bd77-1672cb3cd25f",
     "showTitle": false,
     "tableResultSettingsMap": {},
     "title": ""
    }
   },
   "outputs": [],
   "source": [
    "new_df = test_df_renamed.withColumn(\"sepal_area\", col(\"sepal_length\") * col(\"sepal_width\"))\n",
    "\n",
    "new_df.display()"
   ]
  },
  {
   "cell_type": "code",
   "execution_count": 0,
   "metadata": {
    "application/vnd.databricks.v1+cell": {
     "cellMetadata": {
      "byteLimit": 2048000,
      "rowLimit": 10000
     },
     "inputWidgets": {},
     "nuid": "afc086cf-a0d2-4d61-8ae7-19058a837d43",
     "showTitle": false,
     "tableResultSettingsMap": {},
     "title": ""
    }
   },
   "outputs": [],
   "source": [
    "# Filter rows where class is 'Iris-setosa' and sepal_length > 5\n",
    "\n",
    "filter_df = new_df.filter((col(\"class\") == \"Iris-setosa\") & (col(\"sepal_length\") > 5))\n",
    "filter_df.display()"
   ]
  },
  {
   "cell_type": "code",
   "execution_count": 0,
   "metadata": {
    "application/vnd.databricks.v1+cell": {
     "cellMetadata": {
      "byteLimit": 2048000,
      "rowLimit": 10000
     },
     "inputWidgets": {},
     "nuid": "7a754592-5061-4413-bfd4-351f128645a0",
     "showTitle": false,
     "tableResultSettingsMap": {},
     "title": ""
    }
   },
   "outputs": [],
   "source": [
    "# Combine all – filter class 'Iris-virginica' with petal_width > 2, create petal_area, and select\n",
    "\n",
    "filtered_df2 = new_df.filter((col(\"class\") == \"Iris-virginica\") & (col(\"petal_width\") > 2))\n",
    "filtered_df23 = filtered_df2.withColumn(\"petal_area\", col(\"petal_length\") * col(\"petal_width\"))\n",
    "\n",
    "filtered_df23.select(\"class\", \"petal_area\").display()"
   ]
  }
 ],
 "metadata": {
  "application/vnd.databricks.v1+notebook": {
   "computePreferences": null,
   "dashboards": [],
   "environmentMetadata": {
    "base_environment": "",
    "environment_version": "2"
   },
   "inputWidgetPreferences": null,
   "language": "python",
   "notebookMetadata": {
    "pythonIndentUnit": 4
   },
   "notebookName": "July_07_pratice_DEA",
   "widgets": {}
  },
  "language_info": {
   "name": "python"
  }
 },
 "nbformat": 4,
 "nbformat_minor": 0
}
