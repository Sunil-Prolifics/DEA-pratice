{
 "cells": [
  {
   "cell_type": "code",
   "execution_count": 0,
   "metadata": {
    "application/vnd.databricks.v1+cell": {
     "cellMetadata": {
      "byteLimit": 2048000,
      "rowLimit": 10000
     },
     "inputWidgets": {},
     "nuid": "2ea7f8ab-86d2-4846-85e1-a280a152ff0e",
     "showTitle": false,
     "tableResultSettingsMap": {},
     "title": ""
    }
   },
   "outputs": [],
   "source": [
    "create table if not exists bronze_eps01\n",
    " (date STRING, stock_symbol STRING, analyst INT, estimated_eps DOUBLE)\n",
    " using DELTA\n",
    " TBLPROPERTIES(delta.enableChangeDataFeed=true);\n"
   ]
  },
  {
   "cell_type": "code",
   "execution_count": 0,
   "metadata": {
    "application/vnd.databricks.v1+cell": {
     "cellMetadata": {
      "byteLimit": 2048000,
      "rowLimit": 10000
     },
     "inputWidgets": {},
     "nuid": "cb94a980-408f-492b-b20f-6acb458b4b50",
     "showTitle": false,
     "tableResultSettingsMap": {},
     "title": ""
    }
   },
   "outputs": [],
   "source": [
    " create table if not exists silver_eps01\n",
    " (date STRING,stock_symbol STRING, analyst INT,estimated_eps DOUBLE)\n",
    " using DELTA\n",
    " TBLPROPERTIES(delta.enableChangeDataFeed=true);"
   ]
  },
  {
   "cell_type": "code",
   "execution_count": 0,
   "metadata": {
    "application/vnd.databricks.v1+cell": {
     "cellMetadata": {
      "byteLimit": 2048000,
      "rowLimit": 10000
     },
     "inputWidgets": {},
     "nuid": "7507acd5-b37e-419d-99e1-7c60f71f0893",
     "showTitle": false,
     "tableResultSettingsMap": {},
     "title": ""
    }
   },
   "outputs": [],
   "source": [
    " CREATE OR REPLACE TABLE gold_eps01\n",
    " (date STRING,stock_symbol STRING, consensus_eps DOUBLE)\n",
    " using DELTA\n",
    " TBLPROPERTIES(delta.enableChangeDataFeed=true);"
   ]
  },
  {
   "cell_type": "code",
   "execution_count": 0,
   "metadata": {
    "application/vnd.databricks.v1+cell": {
     "cellMetadata": {
      "byteLimit": 2048000,
      "rowLimit": 10000
     },
     "inputWidgets": {},
     "nuid": "bf6d4e12-af36-4993-86d6-33448419c669",
     "showTitle": false,
     "tableResultSettingsMap": {},
     "title": ""
    }
   },
   "outputs": [],
   "source": [
    "%python\n",
    "#insert the data in python notebook\n",
    " \n",
    "data=[('3/1/2021','a',1,2.2),('3/1/2021','b',2,2.0),('3/1/2021','b',1,1.3),('3/1/2021','c',2,1.2),('3/1/2021','c',1,2.6),('3/1/2021','a',1,2.2)]\n",
    "columns=['date','stock_symbol','analyst','estimated_eps']\n",
    "df=spark.createDataFrame(data=data,schema=columns)\n",
    " \n",
    "df.createOrReplaceTempView(\"bronze_eps01_march_dataset01\")"
   ]
  },
  {
   "cell_type": "code",
   "execution_count": 0,
   "metadata": {
    "application/vnd.databricks.v1+cell": {
     "cellMetadata": {
      "byteLimit": 2048000,
      "rowLimit": 10000
     },
     "inputWidgets": {},
     "nuid": "f3881496-e8c5-46f6-b07f-c25c402e55d2",
     "showTitle": false,
     "tableResultSettingsMap": {},
     "title": ""
    }
   },
   "outputs": [],
   "source": [
    "INSERT INTO  bronze_eps01 TABLE bronze_eps01_march_dataset01"
   ]
  },
  {
   "cell_type": "code",
   "execution_count": 0,
   "metadata": {
    "application/vnd.databricks.v1+cell": {
     "cellMetadata": {
      "byteLimit": 2048000,
      "rowLimit": 10000
     },
     "inputWidgets": {},
     "nuid": "b535caa2-ba39-46e4-9fba-65e47ed4b078",
     "showTitle": false,
     "tableResultSettingsMap": {},
     "title": ""
    }
   },
   "outputs": [],
   "source": [
    "SELECT * FROM bronze_eps01"
   ]
  },
  {
   "cell_type": "code",
   "execution_count": 0,
   "metadata": {
    "application/vnd.databricks.v1+cell": {
     "cellMetadata": {
      "byteLimit": 2048000,
      "rowLimit": 10000
     },
     "inputWidgets": {},
     "nuid": "a4665ebc-269f-48d4-9938-2b44a7d866f9",
     "showTitle": false,
     "tableResultSettingsMap": {},
     "title": ""
    }
   },
   "outputs": [],
   "source": [
    "select * from  table_changes(\"bronze_eps01\",1) "
   ]
  },
  {
   "cell_type": "code",
   "execution_count": 0,
   "metadata": {
    "application/vnd.databricks.v1+cell": {
     "cellMetadata": {
      "byteLimit": 2048000,
      "rowLimit": 10000
     },
     "inputWidgets": {},
     "nuid": "22efc951-607f-441d-a2f5-b55f0045ed0c",
     "showTitle": false,
     "tableResultSettingsMap": {},
     "title": ""
    }
   },
   "outputs": [],
   "source": [
    " -- Insert data from table change to silver table\n",
    "\n",
    "Insert into silver_eps01\n",
    "select date, stock_symbol, analyst, estimated_eps from  table_changes(\"bronze_eps01\",1)\n",
    " "
   ]
  },
  {
   "cell_type": "code",
   "execution_count": 0,
   "metadata": {
    "application/vnd.databricks.v1+cell": {
     "cellMetadata": {
      "byteLimit": 2048000,
      "rowLimit": 10000
     },
     "inputWidgets": {},
     "nuid": "50e95f4f-4ed2-4b8a-96e0-3a90e245e2a2",
     "showTitle": false,
     "tableResultSettingsMap": {},
     "title": ""
    }
   },
   "outputs": [],
   "source": [
    "SELECT * from silver_eps01"
   ]
  },
  {
   "cell_type": "code",
   "execution_count": 0,
   "metadata": {
    "application/vnd.databricks.v1+cell": {
     "cellMetadata": {
      "byteLimit": 2048000,
      "rowLimit": 10000
     },
     "inputWidgets": {},
     "nuid": "8c0cafc7-484e-48c0-8bf7-e76a6a37743a",
     "showTitle": false,
     "tableResultSettingsMap": {},
     "title": ""
    }
   },
   "outputs": [],
   "source": [
    "select * from  table_changes(\"silver_eps01\",1) "
   ]
  },
  {
   "cell_type": "code",
   "execution_count": 0,
   "metadata": {
    "application/vnd.databricks.v1+cell": {
     "cellMetadata": {
      "byteLimit": 2048000,
      "rowLimit": 10000
     },
     "inputWidgets": {},
     "nuid": "5251034f-51e9-42b2-b2a1-fb2087f9db09",
     "showTitle": false,
     "tableResultSettingsMap": {},
     "title": ""
    }
   },
   "outputs": [],
   "source": [
    " -- Insert data from table change to gold table\n",
    "\n",
    "Insert into gold_eps01\n",
    "select date, stock_symbol, AVG(estimated_eps) as consensus_eps from silver_eps01 group by date, stock_symbol"
   ]
  },
  {
   "cell_type": "code",
   "execution_count": 0,
   "metadata": {
    "application/vnd.databricks.v1+cell": {
     "cellMetadata": {
      "byteLimit": 2048000,
      "rowLimit": 10000
     },
     "inputWidgets": {},
     "nuid": "d738ddb7-c0af-41ec-b81f-5cbece6f639f",
     "showTitle": false,
     "tableResultSettingsMap": {},
     "title": ""
    }
   },
   "outputs": [],
   "source": [
    "SELECT * from gold_eps01"
   ]
  },
  {
   "cell_type": "code",
   "execution_count": 0,
   "metadata": {
    "application/vnd.databricks.v1+cell": {
     "cellMetadata": {
      "byteLimit": 2048000,
      "rowLimit": 10000
     },
     "inputWidgets": {},
     "nuid": "d94b8bd9-18f9-4bea-bdda-93f693c89ddc",
     "showTitle": false,
     "tableResultSettingsMap": {},
     "title": ""
    }
   },
   "outputs": [],
   "source": [
    "select * from  table_changes(\"gold_eps01\",1) "
   ]
  },
  {
   "cell_type": "code",
   "execution_count": 0,
   "metadata": {
    "application/vnd.databricks.v1+cell": {
     "cellMetadata": {
      "byteLimit": 2048000,
      "rowLimit": 10000
     },
     "inputWidgets": {},
     "nuid": "4b530543-d693-4777-8bb5-ea70221f0e01",
     "showTitle": false,
     "tableResultSettingsMap": {},
     "title": ""
    }
   },
   "outputs": [],
   "source": [
    "%python\n",
    "#Creating another dataset for april for brozetable\n",
    "data=[('3/1/2021','a',1,4.2),('4/1/2021','b',2,2.0),('4/1/2021','b',1,1.3),('4/1/2021','c',2,1.2),('4/1/2021','c',1,2.6),('4/1/2021','a',1,2.2)]\n",
    "columns=['date','stock_symbol','analyst','estimated_eps']\n",
    "df=spark.createDataFrame(data=data,schema=columns)\n",
    "\n",
    "df.createOrReplaceTempView(\"bronze_eps01_April_dataset01\")"
   ]
  },
  {
   "cell_type": "code",
   "execution_count": 0,
   "metadata": {
    "application/vnd.databricks.v1+cell": {
     "cellMetadata": {
      "byteLimit": 2048000,
      "rowLimit": 10000
     },
     "inputWidgets": {},
     "nuid": "86f11198-04fe-4dfd-bce0-0c1e1deb7d68",
     "showTitle": false,
     "tableResultSettingsMap": {},
     "title": ""
    }
   },
   "outputs": [],
   "source": [
    "INSERT INTO  bronze_eps01 TABLE bronze_eps01_April_dataset01"
   ]
  },
  {
   "cell_type": "code",
   "execution_count": 0,
   "metadata": {
    "application/vnd.databricks.v1+cell": {
     "cellMetadata": {
      "byteLimit": 2048000,
      "rowLimit": 10000
     },
     "inputWidgets": {},
     "nuid": "44ff8524-0239-4b7d-8bc6-91bd7fca5a9e",
     "showTitle": false,
     "tableResultSettingsMap": {},
     "title": ""
    }
   },
   "outputs": [],
   "source": [
    "select * from  table_changes(\"bronze_eps01\",1) "
   ]
  },
  {
   "cell_type": "code",
   "execution_count": 0,
   "metadata": {
    "application/vnd.databricks.v1+cell": {
     "cellMetadata": {
      "byteLimit": 2048000,
      "rowLimit": 10000
     },
     "inputWidgets": {},
     "nuid": "ac7f10d3-5e7a-4027-9039-fa2aeadacaf3",
     "showTitle": false,
     "tableResultSettingsMap": {},
     "title": ""
    }
   },
   "outputs": [],
   "source": [
    "MERGE INTO silver_eps01\n",
    "USING (\n",
    "  SELECT *\n",
    "  FROM (\n",
    "    SELECT *, \n",
    "           ROW_NUMBER() OVER (PARTITION BY date, stock_symbol, analyst ORDER BY _commit_version DESC) AS rn\n",
    "    FROM table_changes('bronze_eps01', 2)\n",
    "    WHERE _change_type IN ('insert', 'update_postimage')\n",
    "  ) \n",
    "  WHERE rn = 1\n",
    ") AS bronze_cdf01\n",
    "ON bronze_cdf01.date = silver_eps01.date\n",
    "   AND bronze_cdf01.stock_symbol = silver_eps01.stock_symbol\n",
    "   AND bronze_cdf01.analyst = silver_eps01.analyst\n",
    "WHEN MATCHED THEN\n",
    "  UPDATE SET silver_eps01.estimated_eps = bronze_cdf01.estimated_eps\n",
    "WHEN NOT MATCHED THEN\n",
    "  INSERT (date, stock_symbol, analyst, estimated_eps)\n",
    "  VALUES (date, stock_symbol, analyst, estimated_eps);"
   ]
  },
  {
   "cell_type": "code",
   "execution_count": 0,
   "metadata": {
    "application/vnd.databricks.v1+cell": {
     "cellMetadata": {
      "byteLimit": 2048000,
      "rowLimit": 10000
     },
     "inputWidgets": {},
     "nuid": "ed800e4f-8b8b-47e7-9e0e-525e3c769c98",
     "showTitle": false,
     "tableResultSettingsMap": {},
     "title": ""
    }
   },
   "outputs": [],
   "source": [
    "select * from  table_changes(\"silver_eps01\",2) "
   ]
  },
  {
   "cell_type": "code",
   "execution_count": 0,
   "metadata": {
    "application/vnd.databricks.v1+cell": {
     "cellMetadata": {
      "byteLimit": 2048000,
      "rowLimit": 10000
     },
     "inputWidgets": {},
     "nuid": "1259961c-af15-411f-9b7e-f6d936a03da6",
     "showTitle": false,
     "tableResultSettingsMap": {},
     "title": ""
    }
   },
   "outputs": [],
   "source": [
    "%python\n",
    "#upload more than file\n",
    "# Read the CSV file into a DataFrame\n",
    "df = spark.read.option(\"header\", True).option(\"inferSchema\", True).csv(\"/FileStore/tables/Orders.csv\")\n",
    "\n",
    "\n",
    "# Append the same data 5 times to grow the table\n",
    "delta_table_path = \"/FileStore/tables/orders_delta\"\n",
    "for _ in range(100):\n",
    "    df.write.format(\"delta\").mode(\"append\").save(delta_table_path)\n"
   ]
  },
  {
   "cell_type": "code",
   "execution_count": 0,
   "metadata": {
    "application/vnd.databricks.v1+cell": {
     "cellMetadata": {
      "byteLimit": 2048000,
      "rowLimit": 10000
     },
     "inputWidgets": {},
     "nuid": "8e30de36-9e27-4352-b837-8e414af7892a",
     "showTitle": false,
     "tableResultSettingsMap": {},
     "title": ""
    }
   },
   "outputs": [],
   "source": [
    "CREATE TABLE ext_orders\n",
    "USING DELTA\n",
    "LOCATION '/FileStore/tables/orders_delta';"
   ]
  },
  {
   "cell_type": "code",
   "execution_count": 0,
   "metadata": {
    "application/vnd.databricks.v1+cell": {
     "cellMetadata": {
      "byteLimit": 2048000,
      "rowLimit": 10000
     },
     "inputWidgets": {},
     "nuid": "676b68da-dc16-4187-89b9-2df4f6b90e4f",
     "showTitle": false,
     "tableResultSettingsMap": {},
     "title": ""
    }
   },
   "outputs": [],
   "source": [
    "DESCRIBE DETAIL ext_orders;"
   ]
  },
  {
   "cell_type": "code",
   "execution_count": 0,
   "metadata": {
    "application/vnd.databricks.v1+cell": {
     "cellMetadata": {
      "byteLimit": 2048000,
      "rowLimit": 10000
     },
     "inputWidgets": {},
     "nuid": "a3a65496-b31c-45c4-9e2d-ac9ba547b1ce",
     "showTitle": false,
     "tableResultSettingsMap": {},
     "title": ""
    }
   },
   "outputs": [],
   "source": [
    "OPTIMIZE ext_orders ZORDER BY (CustomerID);"
   ]
  },
  {
   "cell_type": "code",
   "execution_count": 0,
   "metadata": {
    "application/vnd.databricks.v1+cell": {
     "cellMetadata": {
      "byteLimit": 2048000,
      "rowLimit": 10000
     },
     "inputWidgets": {},
     "nuid": "401a1f4a-a679-4ee7-acaa-2a6cbde56d69",
     "showTitle": false,
     "tableResultSettingsMap": {},
     "title": ""
    }
   },
   "outputs": [],
   "source": [
    "DESCRIBE DETAIL ext_orders;"
   ]
  },
  {
   "cell_type": "code",
   "execution_count": 0,
   "metadata": {
    "application/vnd.databricks.v1+cell": {
     "cellMetadata": {
      "byteLimit": 2048000,
      "rowLimit": 10000
     },
     "inputWidgets": {},
     "nuid": "82277671-2ead-4d0d-a674-a68b7159af2f",
     "showTitle": false,
     "tableResultSettingsMap": {},
     "title": ""
    }
   },
   "outputs": [],
   "source": [
    "%python\n",
    "print(\"Test\")"
   ]
  },
  {
   "cell_type": "code",
   "execution_count": 0,
   "metadata": {
    "application/vnd.databricks.v1+cell": {
     "cellMetadata": {
      "byteLimit": 2048000,
      "rowLimit": 10000
     },
     "inputWidgets": {},
     "nuid": "604d3159-ad8e-43a6-bd30-5d706fe52c61",
     "showTitle": false,
     "tableResultSettingsMap": {},
     "title": ""
    }
   },
   "outputs": [],
   "source": [
    "%python\n",
    "#upload more than file\n",
    "# Read the CSV file into a DataFrame\n",
    "df = spark.read.option(\"header\", True).option(\"inferSchema\", True).csv(\"/FileStore/tables/Orders-2.csv\")"
   ]
  },
  {
   "cell_type": "code",
   "execution_count": 0,
   "metadata": {
    "application/vnd.databricks.v1+cell": {
     "cellMetadata": {
      "byteLimit": 2048000,
      "rowLimit": 10000
     },
     "inputWidgets": {},
     "nuid": "a6a3a15a-32d5-46ed-8d09-b8e72c5825d4",
     "showTitle": false,
     "tableResultSettingsMap": {},
     "title": ""
    }
   },
   "outputs": [],
   "source": [
    "%python\n",
    "display(dbutils.fs.ls(\"/FileStore/tables/\"))"
   ]
  },
  {
   "cell_type": "code",
   "execution_count": 0,
   "metadata": {
    "application/vnd.databricks.v1+cell": {
     "cellMetadata": {
      "byteLimit": 2048000,
      "rowLimit": 10000
     },
     "inputWidgets": {},
     "nuid": "3c7423a7-4304-4345-b61f-5a41fb68119e",
     "showTitle": false,
     "tableResultSettingsMap": {},
     "title": ""
    }
   },
   "outputs": [],
   "source": [
    "%python\n",
    "df2 = spark.read.option(\"header\", True).option(\"inferSchema\", True).csv(\"/FileStore/tables/Orders*\")"
   ]
  },
  {
   "cell_type": "code",
   "execution_count": 0,
   "metadata": {
    "application/vnd.databricks.v1+cell": {
     "cellMetadata": {
      "byteLimit": 2048000,
      "rowLimit": 10000
     },
     "inputWidgets": {},
     "nuid": "ff30be57-9618-41c2-9eb8-6ffb4f87d397",
     "showTitle": false,
     "tableResultSettingsMap": {},
     "title": ""
    }
   },
   "outputs": [],
   "source": [
    "CREATE OR REPLACE TABLE orders1 (OrderID INT, CustomerID INT, OrderAmount INT) USING DELTA;"
   ]
  },
  {
   "cell_type": "code",
   "execution_count": 0,
   "metadata": {
    "application/vnd.databricks.v1+cell": {
     "cellMetadata": {
      "byteLimit": 2048000,
      "rowLimit": 10000
     },
     "inputWidgets": {},
     "nuid": "6c977f84-514c-4913-a090-abaf205ca6da",
     "showTitle": false,
     "tableResultSettingsMap": {},
     "title": ""
    }
   },
   "outputs": [],
   "source": [
    "-- IllegalAccessException: Cannot access non /Workspace local filesystem path file:/dbfs/FileStore/tables on Shared cluster\n",
    "COPY INTO orders1\n",
    "FROM 'file:/dbfs/FileStore/tables/'\n",
    "FILEFORMAT = CSV\n",
    "PATTERN = '.*Orders.*\\.csv'\n",
    "FORMAT_OPTIONS (\n",
    "  'header' = 'true',\n",
    "  'inferSchema' = 'true'\n",
    ");"
   ]
  },
  {
   "cell_type": "code",
   "execution_count": 0,
   "metadata": {
    "application/vnd.databricks.v1+cell": {
     "cellMetadata": {},
     "inputWidgets": {},
     "nuid": "bf6b86cd-8052-41e4-81cf-fbd9660806f7",
     "showTitle": false,
     "tableResultSettingsMap": {},
     "title": ""
    }
   },
   "outputs": [],
   "source": [
    "-- DESCRIBE DETAIL ext_orders;\n",
    "DESCRIBE HISTORY orders1;"
   ]
  },
  {
   "cell_type": "code",
   "execution_count": 0,
   "metadata": {
    "application/vnd.databricks.v1+cell": {
     "cellMetadata": {
      "byteLimit": 2048000,
      "rowLimit": 10000
     },
     "inputWidgets": {},
     "nuid": "2c01cc35-2a4e-4677-b2ed-684083fe7415",
     "showTitle": false,
     "tableResultSettingsMap": {},
     "title": ""
    }
   },
   "outputs": [],
   "source": [
    "CREATE OR REPLACE TABLE orders (   order_id STRING,   customer_id STRING,   order_date DATE,   amount DOUBLE ) USING DELTA;"
   ]
  },
  {
   "cell_type": "code",
   "execution_count": 0,
   "metadata": {
    "application/vnd.databricks.v1+cell": {
     "cellMetadata": {
      "byteLimit": 2048000,
      "rowLimit": 10000
     },
     "inputWidgets": {},
     "nuid": "aa3f55c5-a406-4ce5-8821-3c06fac67ece",
     "showTitle": false,
     "tableResultSettingsMap": {},
     "title": ""
    }
   },
   "outputs": [],
   "source": [
    "-- Identify ACID Compliance \n",
    "INSERT INTO orders VALUES ('001', 'C01', '2024-06-01', 100.0);"
   ]
  },
  {
   "cell_type": "code",
   "execution_count": 0,
   "metadata": {
    "application/vnd.databricks.v1+cell": {
     "cellMetadata": {
      "byteLimit": 2048000,
      "rowLimit": 10000
     },
     "inputWidgets": {},
     "nuid": "6524bd5d-5e75-4128-878f-5b6198dcae2c",
     "showTitle": false,
     "tableResultSettingsMap": {
      "0": {
       "dataGridStateBlob": "{\"version\":1,\"tableState\":{\"columnPinning\":{\"left\":[\"#row_number#\"],\"right\":[]},\"columnSizing\":{},\"columnVisibility\":{}},\"settings\":{\"columns\":{}},\"syncTimestamp\":1752475218080}",
       "filterBlob": null,
       "queryPlanFiltersBlob": null,
       "tableResultIndex": 0
      }
     },
     "title": ""
    }
   },
   "outputs": [],
   "source": [
    "--Compare Data vs Metadata \n",
    "DESCRIBE TABLE orders; \n"
   ]
  },
  {
   "cell_type": "code",
   "execution_count": 0,
   "metadata": {
    "application/vnd.databricks.v1+cell": {
     "cellMetadata": {
      "byteLimit": 2048000,
      "rowLimit": 10000
     },
     "inputWidgets": {},
     "nuid": "6c9a4eb2-6fed-483c-ab07-85219a55afaf",
     "showTitle": false,
     "tableResultSettingsMap": {},
     "title": ""
    }
   },
   "outputs": [],
   "source": [
    "-- Metadata \n",
    "SELECT * FROM orders;   -- Data"
   ]
  },
  {
   "cell_type": "code",
   "execution_count": 0,
   "metadata": {
    "application/vnd.databricks.v1+cell": {
     "cellMetadata": {
      "byteLimit": 2048000,
      "rowLimit": 10000
     },
     "inputWidgets": {},
     "nuid": "1ddb2103-68ca-4d4d-b191-a4779ef7612d",
     "showTitle": false,
     "tableResultSettingsMap": {},
     "title": ""
    }
   },
   "outputs": [],
   "source": [
    "CREATE OR REPLACE TABLE orders (\n",
    "  order_id STRING,\n",
    "  order_date STRING,\n",
    "  test_date TIMESTAMP GENERATED ALWAYS AS (CAST(order_date AS TIMESTAMP)), -- add one more column to order table after order_date\n",
    "  amount DOUBLE\n",
    ")COMMENT 'Main order table';"
   ]
  },
  {
   "cell_type": "code",
   "execution_count": 0,
   "metadata": {
    "application/vnd.databricks.v1+cell": {
     "cellMetadata": {
      "byteLimit": 2048000,
      "rowLimit": 10000
     },
     "inputWidgets": {},
     "nuid": "825192fa-7ab9-4dd6-950e-a0ad6fa43d23",
     "showTitle": false,
     "tableResultSettingsMap": {},
     "title": ""
    }
   },
   "outputs": [],
   "source": [
    "-- add one more column to order table after order_date, name is date using timestamp format\n",
    "describe orders\n"
   ]
  },
  {
   "cell_type": "code",
   "execution_count": 0,
   "metadata": {
    "application/vnd.databricks.v1+cell": {
     "cellMetadata": {
      "byteLimit": 2048000,
      "rowLimit": 10000
     },
     "inputWidgets": {},
     "nuid": "42ec2489-15aa-426e-a105-fca53c1b54d4",
     "showTitle": false,
     "tableResultSettingsMap": {},
     "title": ""
    }
   },
   "outputs": [],
   "source": [
    "INSERT INTO orders (order_id, order_date, amount) VALUES\n",
    "('A001', '2024-07-13', 250.0);"
   ]
  },
  {
   "cell_type": "code",
   "execution_count": 0,
   "metadata": {
    "application/vnd.databricks.v1+cell": {
     "cellMetadata": {
      "byteLimit": 2048000,
      "rowLimit": 10000
     },
     "inputWidgets": {},
     "nuid": "f15994a7-f370-4103-9fc7-3c30bca95b4b",
     "showTitle": false,
     "tableResultSettingsMap": {},
     "title": ""
    }
   },
   "outputs": [],
   "source": [
    "select * from orders"
   ]
  },
  {
   "cell_type": "code",
   "execution_count": 0,
   "metadata": {
    "application/vnd.databricks.v1+cell": {
     "cellMetadata": {
      "byteLimit": 2048000,
      "rowLimit": 10000
     },
     "inputWidgets": {},
     "nuid": "490808ba-b5c5-4d33-8bc7-e95876755da1",
     "showTitle": false,
     "tableResultSettingsMap": {},
     "title": ""
    }
   },
   "outputs": [],
   "source": [
    "CREATE OR REPLACE TABLE orders (\n",
    "  order_id INT,\n",
    "  amount DOUBLE,\n",
    "  order_date DATE\n",
    ");"
   ]
  },
  {
   "cell_type": "code",
   "execution_count": 0,
   "metadata": {
    "application/vnd.databricks.v1+cell": {
     "cellMetadata": {
      "byteLimit": 2048000,
      "rowLimit": 10000
     },
     "inputWidgets": {},
     "nuid": "7aa95ad6-f9bb-4c6c-9062-e3ee8902872a",
     "showTitle": false,
     "tableResultSettingsMap": {},
     "title": ""
    }
   },
   "outputs": [],
   "source": [
    "INSERT INTO orders VALUES \n",
    "(101, 450, '2024-07-01'),\n",
    "(102, 300, '2024-07-05');"
   ]
  },
  {
   "cell_type": "code",
   "execution_count": 0,
   "metadata": {
    "application/vnd.databricks.v1+cell": {
     "cellMetadata": {
      "byteLimit": 2048000,
      "rowLimit": 10000
     },
     "inputWidgets": {},
     "nuid": "a845f03b-0779-46ee-b92c-d9b697792033",
     "showTitle": false,
     "tableResultSettingsMap": {},
     "title": ""
    }
   },
   "outputs": [],
   "source": [
    "CREATE OR REPLACE TABLE staging_orders (   order_id INT,   amount DOUBLE ); \n",
    "INSERT INTO staging_orders VALUES (101, 500), (105, 180);"
   ]
  },
  {
   "cell_type": "code",
   "execution_count": 0,
   "metadata": {
    "application/vnd.databricks.v1+cell": {
     "cellMetadata": {
      "byteLimit": 2048000,
      "rowLimit": 10000
     },
     "inputWidgets": {},
     "nuid": "c808db99-663c-4eef-91bd-de768a010f14",
     "showTitle": false,
     "tableResultSettingsMap": {},
     "title": ""
    }
   },
   "outputs": [],
   "source": [
    "MERGE INTO orders\n",
    "USING staging_orders\n",
    "ON orders.order_id = staging_orders.order_id\n",
    "WHEN MATCHED THEN\n",
    "  UPDATE SET orders.amount = staging_orders.amount\n",
    "WHEN NOT MATCHED THEN\n",
    "  INSERT (order_id, amount) VALUES (staging_orders.order_id, staging_orders.amount)\n"
   ]
  },
  {
   "cell_type": "code",
   "execution_count": 0,
   "metadata": {
    "application/vnd.databricks.v1+cell": {
     "cellMetadata": {
      "byteLimit": 2048000,
      "rowLimit": 10000
     },
     "inputWidgets": {},
     "nuid": "bf934ef1-0499-4a50-93ed-b67241de16c8",
     "showTitle": false,
     "tableResultSettingsMap": {},
     "title": ""
    }
   },
   "outputs": [],
   "source": [
    "SELECT * FROM orders;"
   ]
  },
  {
   "cell_type": "code",
   "execution_count": 0,
   "metadata": {
    "application/vnd.databricks.v1+cell": {
     "cellMetadata": {
      "byteLimit": 2048000,
      "rowLimit": 10000
     },
     "inputWidgets": {},
     "nuid": "800bfad7-babd-4fd6-8d0e-4ca25fc66986",
     "showTitle": false,
     "tableResultSettingsMap": {},
     "title": ""
    }
   },
   "outputs": [],
   "source": [
    "%python\n",
    "# run /Workspace/Repos/Sunil_Prolifics_Repo/DEA-pratice/task01 notebook\n",
    "# %run /Workspace/Repos/Sunil_Prolifics_Repo/DEA-pratice/task01\n",
    "result = dbutils.notebook.run(\"/Workspace/Repos/Sunil_Prolifics_Repo/DEA-pratice/task01\", 60, {\"name\": \"Sunil\", \"score\": \"95\"})\n",
    " \n",
    "print(f\"Returned from child: {result}\")"
   ]
  },
  {
   "cell_type": "code",
   "execution_count": 0,
   "metadata": {
    "application/vnd.databricks.v1+cell": {
     "cellMetadata": {
      "byteLimit": 2048000,
      "rowLimit": 10000
     },
     "inputWidgets": {},
     "nuid": "37cbb9b5-7ada-45ba-ad84-2ca87691fe9a",
     "showTitle": false,
     "tableResultSettingsMap": {},
     "title": ""
    }
   },
   "outputs": [],
   "source": [
    "%python\n",
    "result = dbutils.notebook.run(\"/Workspace/Repos/Sunil_Prolifics_Repo/DEA-pratice/task01\", 60, {\"name\": \"Superman\", \"score\": \"10000\"})\n",
    " \n",
    "print(f\"Returned from child: {result}\")"
   ]
  },
  {
   "cell_type": "code",
   "execution_count": 0,
   "metadata": {
    "application/vnd.databricks.v1+cell": {
     "cellMetadata": {
      "byteLimit": 2048000,
      "rowLimit": 10000
     },
     "inputWidgets": {},
     "nuid": "2f6242af-dc0b-4e4f-9f10-b2c157b044c0",
     "showTitle": false,
     "tableResultSettingsMap": {},
     "title": ""
    }
   },
   "outputs": [],
   "source": [
    "%python\n",
    "%run /Workspace/Repos/Sunil_Prolifics_Repo/DEA-pratice/task01"
   ]
  },
  {
   "cell_type": "code",
   "execution_count": 0,
   "metadata": {
    "application/vnd.databricks.v1+cell": {
     "cellMetadata": {
      "byteLimit": 2048000,
      "rowLimit": 10000
     },
     "inputWidgets": {},
     "nuid": "58b66eb6-79f7-4bac-ab18-932a83716869",
     "showTitle": false,
     "tableResultSettingsMap": {},
     "title": ""
    }
   },
   "outputs": [],
   "source": [
    "%python\n",
    "print(testing)"
   ]
  }
 ],
 "metadata": {
  "application/vnd.databricks.v1+notebook": {
   "computePreferences": null,
   "dashboards": [],
   "environmentMetadata": {
    "base_environment": "",
    "environment_version": "2"
   },
   "inputWidgetPreferences": null,
   "language": "sql",
   "notebookMetadata": {
    "pythonIndentUnit": 4
   },
   "notebookName": "14_July_pratice_DEA",
   "widgets": {}
  },
  "language_info": {
   "name": "sql"
  }
 },
 "nbformat": 4,
 "nbformat_minor": 0
}
