{
 "cells": [
  {
   "cell_type": "code",
   "execution_count": 0,
   "metadata": {
    "application/vnd.databricks.v1+cell": {
     "cellMetadata": {
      "byteLimit": 2048000,
      "rowLimit": 10000
     },
     "inputWidgets": {},
     "nuid": "aef587fe-765c-43a3-812a-fd5f0cbdfed9",
     "showTitle": false,
     "tableResultSettingsMap": {},
     "title": ""
    }
   },
   "outputs": [],
   "source": [
    "# Access parameters passed from parent\n",
    "# name = dbutils.widgets.get(\"name\")\n",
    "# score = dbutils.widgets.get(\"score\")\n",
    " \n",
    "# print(f\"Hello, {name}. Your score is {score}.\")\n",
    " \n",
    "# # Return a value back to parent\n",
    "# dbutils.notebook.exit(f\"Processed{name} with score {score}\")\n",
    "testing = 100\n",
    "print(\"Task 01 in the job\")"
   ]
  }
 ],
 "metadata": {
  "application/vnd.databricks.v1+notebook": {
   "computePreferences": null,
   "dashboards": [],
   "environmentMetadata": {
    "base_environment": "",
    "environment_version": "2"
   },
   "inputWidgetPreferences": null,
   "language": "python",
   "notebookMetadata": {
    "pythonIndentUnit": 4
   },
   "notebookName": "task01",
   "widgets": {}
  },
  "language_info": {
   "name": "python"
  }
 },
 "nbformat": 4,
 "nbformat_minor": 0
}
