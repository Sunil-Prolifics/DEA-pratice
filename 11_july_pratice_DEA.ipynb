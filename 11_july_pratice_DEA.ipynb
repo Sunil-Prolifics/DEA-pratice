{
 "cells": [
  {
   "cell_type": "code",
   "execution_count": 0,
   "metadata": {
    "application/vnd.databricks.v1+cell": {
     "cellMetadata": {
      "byteLimit": 2048000,
      "rowLimit": 10000
     },
     "inputWidgets": {},
     "nuid": "d4b7f30b-b0d3-4400-87e1-0ff753df8fbc",
     "showTitle": false,
     "tableResultSettingsMap": {},
     "title": ""
    }
   },
   "outputs": [],
   "source": [
    "# create a sinple data frame and save it as a delta format file\n",
    "\n",
    "df = spark.createDataFrame([(1, 21),(2, 30),(3, 49),(4, 50),(5, 99)], ['id', 'age'])\n",
    "df.write.format(\"delta\").save(\"/tmp/delta/people\")"
   ]
  },
  {
   "cell_type": "code",
   "execution_count": 0,
   "metadata": {
    "application/vnd.databricks.v1+cell": {
     "cellMetadata": {
      "byteLimit": 2048000,
      "rowLimit": 10000
     },
     "inputWidgets": {},
     "nuid": "3b8c76f6-9a3c-43a7-b2ab-51344b9934f5",
     "showTitle": false,
     "tableResultSettingsMap": {},
     "title": ""
    }
   },
   "outputs": [],
   "source": [
    "dbutils.fs.ls(\"/tmp/delta/people/_delta_log/\")"
   ]
  },
  {
   "cell_type": "code",
   "execution_count": 0,
   "metadata": {
    "application/vnd.databricks.v1+cell": {
     "cellMetadata": {
      "byteLimit": 2048000,
      "rowLimit": 10000
     },
     "inputWidgets": {},
     "nuid": "9c3414f8-23f1-412c-bb65-c7572139ed1f",
     "showTitle": false,
     "tableResultSettingsMap": {},
     "title": ""
    }
   },
   "outputs": [],
   "source": [
    "# load csv file from DBFS \n",
    "df = spark.read.format(\"csv\").option(\"header\", \"true\").load(\"/FileStore/tables/weather.csv\")"
   ]
  },
  {
   "cell_type": "code",
   "execution_count": 0,
   "metadata": {
    "application/vnd.databricks.v1+cell": {
     "cellMetadata": {
      "byteLimit": 2048000,
      "rowLimit": 10000
     },
     "inputWidgets": {},
     "nuid": "37c39a74-f46e-4cb7-836b-87b6e8dfbd81",
     "showTitle": false,
     "tableResultSettingsMap": {},
     "title": ""
    }
   },
   "outputs": [],
   "source": [
    "df.printSchema()"
   ]
  },
  {
   "cell_type": "code",
   "execution_count": 0,
   "metadata": {
    "application/vnd.databricks.v1+cell": {
     "cellMetadata": {
      "byteLimit": 2048000,
      "rowLimit": 10000
     },
     "inputWidgets": {},
     "nuid": "70b3c5e6-cf59-4d6f-a1cc-aaec0d4d732f",
     "showTitle": false,
     "tableResultSettingsMap": {},
     "title": ""
    }
   },
   "outputs": [],
   "source": [
    "# [DELTA_INVALID_CHARACTERS_IN_COLUMN_NAMES] Found invalid character(s) among ' ,;{}()\\n\\t=' in the column names of your schema.\n",
    "# Invalid column names: `Date.Week of`.\n",
    "df.write.format(\"delta\").save(\"/tmp/delta/weather2\")"
   ]
  },
  {
   "cell_type": "code",
   "execution_count": 0,
   "metadata": {
    "application/vnd.databricks.v1+cell": {
     "cellMetadata": {
      "byteLimit": 2048000,
      "rowLimit": 10000
     },
     "inputWidgets": {},
     "nuid": "68f60d7b-a74b-46bd-a4d2-be9757c3c2c9",
     "showTitle": false,
     "tableResultSettingsMap": {},
     "title": ""
    }
   },
   "outputs": [],
   "source": [
    "df = df.withColumnRenamed(\"Date.Week of\", \"Date_Week_of\").withColumnRenamed(\"Data.Temperature.Avg Temp\", \"Data_Temperature_Avg_Temp\").withColumnRenamed(\"Data.Temperature.Max Temp\", \"Data_Temperature_Max_Temp\").withColumnRenamed(\"Data.Temperature.Min Temp\", \"Data_Temperature_Min_Temp\")\n",
    "\n",
    "df.write.format(\"delta\").save(\"/tmp/delta/weather\")"
   ]
  },
  {
   "cell_type": "code",
   "execution_count": 0,
   "metadata": {
    "application/vnd.databricks.v1+cell": {
     "cellMetadata": {
      "byteLimit": 2048000,
      "rowLimit": 10000
     },
     "inputWidgets": {},
     "nuid": "e8c371f4-4787-4a0e-825e-8946ba9001d4",
     "showTitle": false,
     "tableResultSettingsMap": {},
     "title": ""
    }
   },
   "outputs": [],
   "source": [
    "# read data from \"/tmp/delta/people\"\n",
    "\n",
    "df = spark.read.format(\"delta\").load(\"/tmp/delta/people\")\n",
    "df.show()"
   ]
  },
  {
   "cell_type": "code",
   "execution_count": 0,
   "metadata": {
    "application/vnd.databricks.v1+cell": {
     "cellMetadata": {
      "byteLimit": 2048000,
      "rowLimit": 10000
     },
     "inputWidgets": {},
     "nuid": "4aeab4bb-2b6a-4472-8aab-334d0fad9d97",
     "showTitle": false,
     "tableResultSettingsMap": {},
     "title": ""
    }
   },
   "outputs": [],
   "source": [
    "display(df.history())"
   ]
  },
  {
   "cell_type": "markdown",
   "metadata": {
    "application/vnd.databricks.v1+cell": {
     "cellMetadata": {},
     "inputWidgets": {},
     "nuid": "f6d1446f-0a67-4ff0-b649-9273e8802026",
     "showTitle": false,
     "tableResultSettingsMap": {},
     "title": ""
    }
   },
   "source": [
    "\n",
    "\n",
    "from delta.tables import DeltaTable\n",
    " \n",
    "deltaTable = DeltaTable.forPath(spark, \"abfss://mycontainer@testcresoldemo.dfs.core.windows.net/md2\")\n",
    "# Show history\n",
    "display(deltaTable.history())\n",
    "\n",
    " \n",
    "%sql\n",
    "select * from trainingcatalog.mydemoschema.deltatablefromcsv1 TIMESTAMP AS OF '2025-07-11T05:13:06.000+00:00';\n",
    "\n",
    "df_v1 = spark.read.format(\"delta\") \\\n",
    "  .option(\"versionAsOf\", 0) \\\n",
    "  .load(\"abfss://mycontainer@testcresoldemo.dfs.core.windows.net/md2\")\n",
    " \n",
    "display(df_v1)\n",
    " \n",
    "df_v1 = spark.read.format(\"delta\") \\\n",
    "  .option(\"timestampAsOf\", \"2025-07-11T05:25:16.000+00:00\") \\\n",
    "  .load(\"abfss://mycontainer@testcresoldemo.dfs.core.windows.net/md2\")\n",
    " \n",
    "display(df_v1)\n",
    "\n",
    "%sql\n",
    "-- Step 1: Create temp view from old version\n",
    "CREATE OR REPLACE TEMP VIEW rollback_view AS\n",
    "SELECT * FROM trainingcatalog.mydemoschema.deltatablefromcsv1 VERSION AS OF 0;\n",
    " \n",
    "-- Step 2: Overwrite current table\n",
    "INSERT OVERWRITE TABLE trainingcatalog.mydemoschema.deltatablefromcsv1\n",
    "SELECT * FROM rollback_view;\n",
    " "
   ]
  },
  {
   "cell_type": "code",
   "execution_count": 0,
   "metadata": {
    "application/vnd.databricks.v1+cell": {
     "cellMetadata": {
      "byteLimit": 2048000,
      "rowLimit": 10000
     },
     "inputWidgets": {},
     "nuid": "bcdea081-500a-4f1d-833f-5663232d30ab",
     "showTitle": false,
     "tableResultSettingsMap": {},
     "title": ""
    }
   },
   "outputs": [],
   "source": [
    "data_target = [(1, \"Alice\"), (2, \"Bob\")]\n",
    "df_target = spark.createDataFrame(data_target, [\"id\", \"name\"])\n",
    "\n",
    "data_source = [(1, \"Alice\", 30), (3, \"Charlie\", 25)]\n",
    "df_source = spark.createDataFrame(data_source, [\"id\", \"name\", \"age\"])\n",
    "\n",
    "df_target.display()\n",
    "df_source.display()"
   ]
  },
  {
   "cell_type": "code",
   "execution_count": 0,
   "metadata": {
    "application/vnd.databricks.v1+cell": {
     "cellMetadata": {
      "byteLimit": 2048000,
      "rowLimit": 10000
     },
     "inputWidgets": {},
     "nuid": "87b9939f-c3d0-4af3-848e-0a3318627c7c",
     "showTitle": false,
     "tableResultSettingsMap": {},
     "title": ""
    }
   },
   "outputs": [],
   "source": [
    "# append df_source into df_target using mergeschema option\n",
    "df_source.write.format(\"delta\").mode(\"append\").option(\"mergeSchema\", \"true\").save(\"/tmp/delta/people04\")\n",
    "df = spark.read.format(\"delta\").load(\"/tmp/delta/people04\")\n",
    "df.display()"
   ]
  },
  {
   "cell_type": "code",
   "execution_count": 0,
   "metadata": {
    "application/vnd.databricks.v1+cell": {
     "cellMetadata": {
      "byteLimit": 2048000,
      "rowLimit": 10000
     },
     "inputWidgets": {},
     "nuid": "1e4d328d-f094-4da6-be80-7d8f95862cd7",
     "showTitle": false,
     "tableResultSettingsMap": {},
     "title": ""
    }
   },
   "outputs": [],
   "source": [
    "df.display()"
   ]
  },
  {
   "cell_type": "code",
   "execution_count": 0,
   "metadata": {
    "application/vnd.databricks.v1+cell": {
     "cellMetadata": {
      "byteLimit": 2048000,
      "implicitDf": true,
      "rowLimit": 10000
     },
     "inputWidgets": {},
     "nuid": "001748bf-3981-47fb-ab67-8ec13119f4f1",
     "showTitle": false,
     "tableResultSettingsMap": {},
     "title": ""
    }
   },
   "outputs": [],
   "source": [
    "%sql\n",
    "VACUUM '/tmp/delta/people' RETAIN 10 HOURS;"
   ]
  },
  {
   "cell_type": "code",
   "execution_count": 0,
   "metadata": {
    "application/vnd.databricks.v1+cell": {
     "cellMetadata": {
      "byteLimit": 2048000,
      "rowLimit": 10000
     },
     "inputWidgets": {},
     "nuid": "bf998bbf-997e-45d6-b413-031a28c40aea",
     "showTitle": false,
     "tableResultSettingsMap": {},
     "title": ""
    }
   },
   "outputs": [],
   "source": [
    "read_format='delta'\n",
    "file_path='/databricks-datasets/learning-spark-v2/people/people-10m.delta'"
   ]
  },
  {
   "cell_type": "code",
   "execution_count": 0,
   "metadata": {
    "application/vnd.databricks.v1+cell": {
     "cellMetadata": {
      "byteLimit": 2048000,
      "implicitDf": true,
      "rowLimit": 10000
     },
     "inputWidgets": {},
     "nuid": "3d897bd8-e1c2-40f7-a770-e007788d6ad2",
     "showTitle": false,
     "tableResultSettingsMap": {},
     "title": ""
    }
   },
   "outputs": [],
   "source": [
    "%sql\n",
    "-- read table from file_path into people01\n",
    "CREATE OR REPLACE TABLE people01 AS SELECT * FROM delta.`/databricks-datasets/learning-spark-v2/people/people-10m.delta`\n",
    "    \n",
    "-- read table from table name"
   ]
  },
  {
   "cell_type": "code",
   "execution_count": 0,
   "metadata": {
    "application/vnd.databricks.v1+cell": {
     "cellMetadata": {
      "byteLimit": 2048000,
      "implicitDf": true,
      "rowLimit": 10000
     },
     "inputWidgets": {},
     "nuid": "488970e4-9398-4467-b2c5-f5443c486175",
     "showTitle": false,
     "tableResultSettingsMap": {},
     "title": ""
    }
   },
   "outputs": [],
   "source": [
    "%sql\n",
    "SELECT * FROM people01;"
   ]
  },
  {
   "cell_type": "code",
   "execution_count": 0,
   "metadata": {
    "application/vnd.databricks.v1+cell": {
     "cellMetadata": {
      "byteLimit": 2048000,
      "implicitDf": true,
      "rowLimit": 10000
     },
     "inputWidgets": {},
     "nuid": "b2b4b93f-2d79-4bff-8763-4048ecf3d7ff",
     "showTitle": false,
     "tableResultSettingsMap": {},
     "title": ""
    }
   },
   "outputs": [],
   "source": [
    "%sql\n",
    "DESCRIBE people01"
   ]
  },
  {
   "cell_type": "code",
   "execution_count": 0,
   "metadata": {
    "application/vnd.databricks.v1+cell": {
     "cellMetadata": {
      "byteLimit": 2048000,
      "implicitDf": true,
      "rowLimit": 10000
     },
     "inputWidgets": {},
     "nuid": "d88ddc50-78df-4954-8b78-51a635b60f3c",
     "showTitle": false,
     "tableResultSettingsMap": {},
     "title": ""
    }
   },
   "outputs": [],
   "source": [
    "%sql\n",
    "CREATE OR REPLACE TABLE people02 (\n",
    "    id int,\n",
    "    firstName varchar(255) NOT NULL,\n",
    "    middleName varchar(255),\n",
    "    lastName varchar(255),\n",
    "    gender varchar(255),\n",
    "    birthDate timestamp,\n",
    "    ssn varchar(255),\n",
    "    salary int\n",
    ");\n",
    "\n",
    "INSERT INTO people02 VALUES\n",
    "(9999998, 'Billy', 'Tommy', 'Luppitt', 'M', '1992-09-17T04:00:00.000+0000', '953-38-9452', 55250),\n",
    "(9999999, 'Billy1', 'Tommy1', 'Luppitt1', 'M', '1992-09-17T04:00:00.000+0000', '923-38-9452', 48520),\n",
    "(10000000, 'Billy2', 'Tommy2', 'Luppitt2', 'M', '1992-09-17T04:00:00.000+0000', '953-38-9452', 9000);"
   ]
  },
  {
   "cell_type": "code",
   "execution_count": 0,
   "metadata": {
    "application/vnd.databricks.v1+cell": {
     "cellMetadata": {
      "byteLimit": 2048000,
      "implicitDf": true,
      "rowLimit": 10000
     },
     "inputWidgets": {},
     "nuid": "9ae8224b-108e-4f05-94c5-ac88e6befe38",
     "showTitle": false,
     "tableResultSettingsMap": {},
     "title": ""
    }
   },
   "outputs": [],
   "source": [
    "%sql\n",
    "DESCRIBE people02"
   ]
  },
  {
   "cell_type": "code",
   "execution_count": 0,
   "metadata": {
    "application/vnd.databricks.v1+cell": {
     "cellMetadata": {
      "byteLimit": 2048000,
      "implicitDf": true,
      "rowLimit": 10000
     },
     "inputWidgets": {},
     "nuid": "b73c344e-60fe-4551-a6ee-b281eac1c84c",
     "showTitle": false,
     "tableResultSettingsMap": {},
     "title": ""
    }
   },
   "outputs": [],
   "source": [
    "%sql\n",
    "MERGE into default.people01\n",
    "using default.people02\n",
    "on people01.id=people02.id\n",
    "when matched then update set *\n",
    "WHEN NOT MATCHED THEN INSERT *\n",
    "\n",
    " "
   ]
  },
  {
   "cell_type": "code",
   "execution_count": 0,
   "metadata": {
    "application/vnd.databricks.v1+cell": {
     "cellMetadata": {
      "byteLimit": 2048000,
      "implicitDf": true,
      "rowLimit": 10000
     },
     "inputWidgets": {},
     "nuid": "5baaec43-aae1-4de0-b817-7b14f3cafbc2",
     "showTitle": false,
     "tableResultSettingsMap": {},
     "title": ""
    }
   },
   "outputs": [],
   "source": [
    "%sql\n",
    "DESCRIBE people01"
   ]
  }
 ],
 "metadata": {
  "application/vnd.databricks.v1+notebook": {
   "computePreferences": null,
   "dashboards": [],
   "environmentMetadata": {
    "base_environment": "",
    "environment_version": "2"
   },
   "inputWidgetPreferences": null,
   "language": "python",
   "notebookMetadata": {
    "mostRecentlyExecutedCommandWithImplicitDF": {
     "commandId": 8511035339855599,
     "dataframes": [
      "_sqldf"
     ]
    },
    "pythonIndentUnit": 4
   },
   "notebookName": "11_july_pratice_DEA",
   "widgets": {}
  },
  "language_info": {
   "name": "python"
  }
 },
 "nbformat": 4,
 "nbformat_minor": 0
}
